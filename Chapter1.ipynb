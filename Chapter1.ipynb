{
 "cells": [
  {
   "cell_type": "code",
   "execution_count": 1,
   "metadata": {
    "collapsed": true
   },
   "outputs": [],
   "source": [
    "import pandas as pd"
   ]
  },
  {
   "cell_type": "code",
   "execution_count": 2,
   "metadata": {
    "collapsed": false
   },
   "outputs": [
    {
     "data": {
      "text/html": [
       "<div>\n",
       "<table border=\"1\" class=\"dataframe\">\n",
       "  <thead>\n",
       "    <tr style=\"text-align: right;\">\n",
       "      <th></th>\n",
       "      <th>dine_type</th>\n",
       "      <th>corner</th>\n",
       "      <th>menu</th>\n",
       "      <th>is_sold_out</th>\n",
       "      <th>use_count</th>\n",
       "      <th>pred_count</th>\n",
       "      <th>additional</th>\n",
       "      <th>good</th>\n",
       "      <th>ok</th>\n",
       "      <th>bad</th>\n",
       "      <th>diff_use_pred</th>\n",
       "      <th>year</th>\n",
       "      <th>month</th>\n",
       "      <th>day</th>\n",
       "      <th>wday</th>\n",
       "    </tr>\n",
       "    <tr>\n",
       "      <th>date</th>\n",
       "      <th></th>\n",
       "      <th></th>\n",
       "      <th></th>\n",
       "      <th></th>\n",
       "      <th></th>\n",
       "      <th></th>\n",
       "      <th></th>\n",
       "      <th></th>\n",
       "      <th></th>\n",
       "      <th></th>\n",
       "      <th></th>\n",
       "      <th></th>\n",
       "      <th></th>\n",
       "      <th></th>\n",
       "      <th></th>\n",
       "    </tr>\n",
       "  </thead>\n",
       "  <tbody>\n",
       "    <tr>\n",
       "      <th>2013-08-06</th>\n",
       "      <td>dinner</td>\n",
       "      <td>grill &amp; fry</td>\n",
       "      <td>훈제연어벤또(200개)</td>\n",
       "      <td>F</td>\n",
       "      <td>213</td>\n",
       "      <td>0</td>\n",
       "      <td>0</td>\n",
       "      <td>0</td>\n",
       "      <td>0</td>\n",
       "      <td>0</td>\n",
       "      <td>-213</td>\n",
       "      <td>2013</td>\n",
       "      <td>8</td>\n",
       "      <td>6</td>\n",
       "      <td>1</td>\n",
       "    </tr>\n",
       "    <tr>\n",
       "      <th>2013-08-06</th>\n",
       "      <td>dinner</td>\n",
       "      <td>rice &amp; soup 1</td>\n",
       "      <td>뚝배기 우거지 갈비탕</td>\n",
       "      <td>F</td>\n",
       "      <td>261</td>\n",
       "      <td>0</td>\n",
       "      <td>0</td>\n",
       "      <td>0</td>\n",
       "      <td>0</td>\n",
       "      <td>0</td>\n",
       "      <td>-261</td>\n",
       "      <td>2013</td>\n",
       "      <td>8</td>\n",
       "      <td>6</td>\n",
       "      <td>1</td>\n",
       "    </tr>\n",
       "    <tr>\n",
       "      <th>2013-08-06</th>\n",
       "      <td>lunch</td>\n",
       "      <td>noodle bar</td>\n",
       "      <td>판모밀정식</td>\n",
       "      <td>F</td>\n",
       "      <td>267</td>\n",
       "      <td>0</td>\n",
       "      <td>0</td>\n",
       "      <td>0</td>\n",
       "      <td>0</td>\n",
       "      <td>0</td>\n",
       "      <td>-267</td>\n",
       "      <td>2013</td>\n",
       "      <td>8</td>\n",
       "      <td>6</td>\n",
       "      <td>1</td>\n",
       "    </tr>\n",
       "    <tr>\n",
       "      <th>2013-08-06</th>\n",
       "      <td>breakfast</td>\n",
       "      <td>rice &amp; soup 1</td>\n",
       "      <td>설렁탕정식</td>\n",
       "      <td>F</td>\n",
       "      <td>1</td>\n",
       "      <td>0</td>\n",
       "      <td>0</td>\n",
       "      <td>0</td>\n",
       "      <td>0</td>\n",
       "      <td>0</td>\n",
       "      <td>-1</td>\n",
       "      <td>2013</td>\n",
       "      <td>8</td>\n",
       "      <td>6</td>\n",
       "      <td>1</td>\n",
       "    </tr>\n",
       "    <tr>\n",
       "      <th>2013-08-06</th>\n",
       "      <td>lunch</td>\n",
       "      <td>rice &amp; soup 1</td>\n",
       "      <td>A. 부대찌개정식</td>\n",
       "      <td>F</td>\n",
       "      <td>376</td>\n",
       "      <td>0</td>\n",
       "      <td>0</td>\n",
       "      <td>0</td>\n",
       "      <td>0</td>\n",
       "      <td>0</td>\n",
       "      <td>-376</td>\n",
       "      <td>2013</td>\n",
       "      <td>8</td>\n",
       "      <td>6</td>\n",
       "      <td>1</td>\n",
       "    </tr>\n",
       "  </tbody>\n",
       "</table>\n",
       "</div>"
      ],
      "text/plain": [
       "            dine_type         corner          menu is_sold_out  use_count  \\\n",
       "date                                                                        \n",
       "2013-08-06     dinner    grill & fry  훈제연어벤또(200개)           F        213   \n",
       "2013-08-06     dinner  rice & soup 1   뚝배기 우거지 갈비탕           F        261   \n",
       "2013-08-06      lunch     noodle bar         판모밀정식           F        267   \n",
       "2013-08-06  breakfast  rice & soup 1         설렁탕정식           F          1   \n",
       "2013-08-06      lunch  rice & soup 1     A. 부대찌개정식           F        376   \n",
       "\n",
       "            pred_count  additional  good  ok  bad  diff_use_pred  year  month  \\\n",
       "date                                                                            \n",
       "2013-08-06           0           0     0   0    0           -213  2013      8   \n",
       "2013-08-06           0           0     0   0    0           -261  2013      8   \n",
       "2013-08-06           0           0     0   0    0           -267  2013      8   \n",
       "2013-08-06           0           0     0   0    0             -1  2013      8   \n",
       "2013-08-06           0           0     0   0    0           -376  2013      8   \n",
       "\n",
       "            day  wday  \n",
       "date                   \n",
       "2013-08-06    6     1  \n",
       "2013-08-06    6     1  \n",
       "2013-08-06    6     1  \n",
       "2013-08-06    6     1  \n",
       "2013-08-06    6     1  "
      ]
     },
     "execution_count": 2,
     "metadata": {},
     "output_type": "execute_result"
    }
   ],
   "source": [
    "# 엑셀파일 열기\n",
    "식당 = pd.read_excel('./data/food_order.xlsx')\n",
    "\n",
    "# date 컬럼을 색인으로 설정\n",
    "식당 = 식당.set_index('date')\n",
    "\n",
    "식당[:5]"
   ]
  },
  {
   "cell_type": "code",
   "execution_count": 3,
   "metadata": {
    "collapsed": false
   },
   "outputs": [
    {
     "data": {
      "text/html": [
       "<div>\n",
       "<table border=\"1\" class=\"dataframe\">\n",
       "  <thead>\n",
       "    <tr style=\"text-align: right;\">\n",
       "      <th></th>\n",
       "      <th>dine_type</th>\n",
       "      <th>corner</th>\n",
       "      <th>menu</th>\n",
       "      <th>is_sold_out</th>\n",
       "      <th>use_count</th>\n",
       "      <th>pred_count</th>\n",
       "      <th>additional</th>\n",
       "      <th>good</th>\n",
       "      <th>ok</th>\n",
       "      <th>bad</th>\n",
       "      <th>diff_use_pred</th>\n",
       "      <th>year</th>\n",
       "      <th>month</th>\n",
       "      <th>day</th>\n",
       "      <th>wday</th>\n",
       "    </tr>\n",
       "    <tr>\n",
       "      <th>date</th>\n",
       "      <th></th>\n",
       "      <th></th>\n",
       "      <th></th>\n",
       "      <th></th>\n",
       "      <th></th>\n",
       "      <th></th>\n",
       "      <th></th>\n",
       "      <th></th>\n",
       "      <th></th>\n",
       "      <th></th>\n",
       "      <th></th>\n",
       "      <th></th>\n",
       "      <th></th>\n",
       "      <th></th>\n",
       "      <th></th>\n",
       "    </tr>\n",
       "  </thead>\n",
       "  <tbody>\n",
       "    <tr>\n",
       "      <th>2013-08-06</th>\n",
       "      <td>dinner</td>\n",
       "      <td>grill &amp; fry</td>\n",
       "      <td>훈제연어벤또(200개)</td>\n",
       "      <td>F</td>\n",
       "      <td>213</td>\n",
       "      <td>0</td>\n",
       "      <td>0</td>\n",
       "      <td>0</td>\n",
       "      <td>0</td>\n",
       "      <td>0</td>\n",
       "      <td>-213</td>\n",
       "      <td>2013</td>\n",
       "      <td>8</td>\n",
       "      <td>6</td>\n",
       "      <td>1</td>\n",
       "    </tr>\n",
       "    <tr>\n",
       "      <th>2013-08-06</th>\n",
       "      <td>dinner</td>\n",
       "      <td>rice &amp; soup 1</td>\n",
       "      <td>뚝배기 우거지 갈비탕</td>\n",
       "      <td>F</td>\n",
       "      <td>261</td>\n",
       "      <td>0</td>\n",
       "      <td>0</td>\n",
       "      <td>0</td>\n",
       "      <td>0</td>\n",
       "      <td>0</td>\n",
       "      <td>-261</td>\n",
       "      <td>2013</td>\n",
       "      <td>8</td>\n",
       "      <td>6</td>\n",
       "      <td>1</td>\n",
       "    </tr>\n",
       "    <tr>\n",
       "      <th>2013-08-06</th>\n",
       "      <td>lunch</td>\n",
       "      <td>noodle bar</td>\n",
       "      <td>판모밀정식</td>\n",
       "      <td>F</td>\n",
       "      <td>267</td>\n",
       "      <td>0</td>\n",
       "      <td>0</td>\n",
       "      <td>0</td>\n",
       "      <td>0</td>\n",
       "      <td>0</td>\n",
       "      <td>-267</td>\n",
       "      <td>2013</td>\n",
       "      <td>8</td>\n",
       "      <td>6</td>\n",
       "      <td>1</td>\n",
       "    </tr>\n",
       "    <tr>\n",
       "      <th>2013-08-06</th>\n",
       "      <td>breakfast</td>\n",
       "      <td>rice &amp; soup 1</td>\n",
       "      <td>설렁탕정식</td>\n",
       "      <td>F</td>\n",
       "      <td>1</td>\n",
       "      <td>0</td>\n",
       "      <td>0</td>\n",
       "      <td>0</td>\n",
       "      <td>0</td>\n",
       "      <td>0</td>\n",
       "      <td>-1</td>\n",
       "      <td>2013</td>\n",
       "      <td>8</td>\n",
       "      <td>6</td>\n",
       "      <td>1</td>\n",
       "    </tr>\n",
       "    <tr>\n",
       "      <th>2013-08-06</th>\n",
       "      <td>lunch</td>\n",
       "      <td>rice &amp; soup 1</td>\n",
       "      <td>A. 부대찌개정식</td>\n",
       "      <td>F</td>\n",
       "      <td>376</td>\n",
       "      <td>0</td>\n",
       "      <td>0</td>\n",
       "      <td>0</td>\n",
       "      <td>0</td>\n",
       "      <td>0</td>\n",
       "      <td>-376</td>\n",
       "      <td>2013</td>\n",
       "      <td>8</td>\n",
       "      <td>6</td>\n",
       "      <td>1</td>\n",
       "    </tr>\n",
       "  </tbody>\n",
       "</table>\n",
       "</div>"
      ],
      "text/plain": [
       "            dine_type         corner          menu is_sold_out  use_count  \\\n",
       "date                                                                        \n",
       "2013-08-06     dinner    grill & fry  훈제연어벤또(200개)           F        213   \n",
       "2013-08-06     dinner  rice & soup 1   뚝배기 우거지 갈비탕           F        261   \n",
       "2013-08-06      lunch     noodle bar         판모밀정식           F        267   \n",
       "2013-08-06  breakfast  rice & soup 1         설렁탕정식           F          1   \n",
       "2013-08-06      lunch  rice & soup 1     A. 부대찌개정식           F        376   \n",
       "\n",
       "            pred_count  additional  good  ok  bad  diff_use_pred  year  month  \\\n",
       "date                                                                            \n",
       "2013-08-06           0           0     0   0    0           -213  2013      8   \n",
       "2013-08-06           0           0     0   0    0           -261  2013      8   \n",
       "2013-08-06           0           0     0   0    0           -267  2013      8   \n",
       "2013-08-06           0           0     0   0    0             -1  2013      8   \n",
       "2013-08-06           0           0     0   0    0           -376  2013      8   \n",
       "\n",
       "            day  wday  \n",
       "date                   \n",
       "2013-08-06    6     1  \n",
       "2013-08-06    6     1  \n",
       "2013-08-06    6     1  \n",
       "2013-08-06    6     1  \n",
       "2013-08-06    6     1  "
      ]
     },
     "execution_count": 3,
     "metadata": {},
     "output_type": "execute_result"
    }
   ],
   "source": [
    "# 색인으로 조회, 범위도 가능\n",
    "식당.ix['2013-08-06']"
   ]
  },
  {
   "cell_type": "code",
   "execution_count": 4,
   "metadata": {
    "collapsed": false
   },
   "outputs": [
    {
     "data": {
      "text/html": [
       "<div>\n",
       "<table border=\"1\" class=\"dataframe\">\n",
       "  <thead>\n",
       "    <tr style=\"text-align: right;\">\n",
       "      <th></th>\n",
       "      <th>dine_type</th>\n",
       "      <th>corner</th>\n",
       "      <th>menu</th>\n",
       "      <th>is_sold_out</th>\n",
       "      <th>use_count</th>\n",
       "      <th>pred_count</th>\n",
       "      <th>additional</th>\n",
       "      <th>good</th>\n",
       "      <th>ok</th>\n",
       "      <th>bad</th>\n",
       "      <th>diff_use_pred</th>\n",
       "      <th>year</th>\n",
       "      <th>month</th>\n",
       "      <th>day</th>\n",
       "      <th>wday</th>\n",
       "    </tr>\n",
       "    <tr>\n",
       "      <th>date</th>\n",
       "      <th></th>\n",
       "      <th></th>\n",
       "      <th></th>\n",
       "      <th></th>\n",
       "      <th></th>\n",
       "      <th></th>\n",
       "      <th></th>\n",
       "      <th></th>\n",
       "      <th></th>\n",
       "      <th></th>\n",
       "      <th></th>\n",
       "      <th></th>\n",
       "      <th></th>\n",
       "      <th></th>\n",
       "      <th></th>\n",
       "    </tr>\n",
       "  </thead>\n",
       "  <tbody>\n",
       "    <tr>\n",
       "      <th>2014-08-01</th>\n",
       "      <td>dinner</td>\n",
       "      <td>after school</td>\n",
       "      <td>햄모듬라면&amp;콩도너츠</td>\n",
       "      <td>F</td>\n",
       "      <td>137</td>\n",
       "      <td>0</td>\n",
       "      <td>0</td>\n",
       "      <td>0</td>\n",
       "      <td>0</td>\n",
       "      <td>0</td>\n",
       "      <td>-137</td>\n",
       "      <td>2014</td>\n",
       "      <td>8</td>\n",
       "      <td>1</td>\n",
       "      <td>4</td>\n",
       "    </tr>\n",
       "    <tr>\n",
       "      <th>2014-08-01</th>\n",
       "      <td>lunch</td>\n",
       "      <td>after school</td>\n",
       "      <td>카레라면&amp;비빔채소만두</td>\n",
       "      <td>T</td>\n",
       "      <td>129</td>\n",
       "      <td>0</td>\n",
       "      <td>0</td>\n",
       "      <td>0</td>\n",
       "      <td>0</td>\n",
       "      <td>0</td>\n",
       "      <td>-129</td>\n",
       "      <td>2014</td>\n",
       "      <td>8</td>\n",
       "      <td>1</td>\n",
       "      <td>4</td>\n",
       "    </tr>\n",
       "    <tr>\n",
       "      <th>2014-08-01</th>\n",
       "      <td>dinner</td>\n",
       "      <td>grill &amp; fry</td>\n",
       "      <td>취나물밥&amp;양념장</td>\n",
       "      <td>F</td>\n",
       "      <td>68</td>\n",
       "      <td>0</td>\n",
       "      <td>0</td>\n",
       "      <td>0</td>\n",
       "      <td>0</td>\n",
       "      <td>0</td>\n",
       "      <td>-68</td>\n",
       "      <td>2014</td>\n",
       "      <td>8</td>\n",
       "      <td>1</td>\n",
       "      <td>4</td>\n",
       "    </tr>\n",
       "    <tr>\n",
       "      <th>2014-08-01</th>\n",
       "      <td>breakfast</td>\n",
       "      <td>take out</td>\n",
       "      <td>7곡빵샌드위치</td>\n",
       "      <td>F</td>\n",
       "      <td>39</td>\n",
       "      <td>0</td>\n",
       "      <td>0</td>\n",
       "      <td>0</td>\n",
       "      <td>0</td>\n",
       "      <td>0</td>\n",
       "      <td>-39</td>\n",
       "      <td>2014</td>\n",
       "      <td>8</td>\n",
       "      <td>1</td>\n",
       "      <td>4</td>\n",
       "    </tr>\n",
       "    <tr>\n",
       "      <th>2014-08-01</th>\n",
       "      <td>lunch</td>\n",
       "      <td>grill &amp; fry</td>\n",
       "      <td>더덕비빔밥</td>\n",
       "      <td>F</td>\n",
       "      <td>158</td>\n",
       "      <td>0</td>\n",
       "      <td>0</td>\n",
       "      <td>0</td>\n",
       "      <td>0</td>\n",
       "      <td>0</td>\n",
       "      <td>-158</td>\n",
       "      <td>2014</td>\n",
       "      <td>8</td>\n",
       "      <td>1</td>\n",
       "      <td>4</td>\n",
       "    </tr>\n",
       "  </tbody>\n",
       "</table>\n",
       "</div>"
      ],
      "text/plain": [
       "            dine_type        corner         menu is_sold_out  use_count  \\\n",
       "date                                                                      \n",
       "2014-08-01     dinner  after school   햄모듬라면&콩도너츠           F        137   \n",
       "2014-08-01      lunch  after school  카레라면&비빔채소만두           T        129   \n",
       "2014-08-01     dinner   grill & fry     취나물밥&양념장           F         68   \n",
       "2014-08-01  breakfast      take out      7곡빵샌드위치           F         39   \n",
       "2014-08-01      lunch   grill & fry        더덕비빔밥           F        158   \n",
       "\n",
       "            pred_count  additional  good  ok  bad  diff_use_pred  year  month  \\\n",
       "date                                                                            \n",
       "2014-08-01           0           0     0   0    0           -137  2014      8   \n",
       "2014-08-01           0           0     0   0    0           -129  2014      8   \n",
       "2014-08-01           0           0     0   0    0            -68  2014      8   \n",
       "2014-08-01           0           0     0   0    0            -39  2014      8   \n",
       "2014-08-01           0           0     0   0    0           -158  2014      8   \n",
       "\n",
       "            day  wday  \n",
       "date                   \n",
       "2014-08-01    1     4  \n",
       "2014-08-01    1     4  \n",
       "2014-08-01    1     4  \n",
       "2014-08-01    1     4  \n",
       "2014-08-01    1     4  "
      ]
     },
     "execution_count": 4,
     "metadata": {},
     "output_type": "execute_result"
    }
   ],
   "source": [
    "식당.ix['2014-08-01':'2014-08-15'][:5]"
   ]
  },
  {
   "cell_type": "code",
   "execution_count": 5,
   "metadata": {
    "collapsed": false
   },
   "outputs": [
    {
     "data": {
      "text/plain": [
       "date\n",
       "2013-08-06    훈제연어벤또(200개)\n",
       "2013-08-06     뚝배기 우거지 갈비탕\n",
       "2013-08-06           판모밀정식\n",
       "Name: menu, dtype: object"
      ]
     },
     "execution_count": 5,
     "metadata": {},
     "output_type": "execute_result"
    }
   ],
   "source": [
    "식당['menu'][:3]"
   ]
  },
  {
   "cell_type": "code",
   "execution_count": 6,
   "metadata": {
    "collapsed": false
   },
   "outputs": [
    {
     "data": {
      "text/html": [
       "<div>\n",
       "<table border=\"1\" class=\"dataframe\">\n",
       "  <thead>\n",
       "    <tr style=\"text-align: right;\">\n",
       "      <th></th>\n",
       "      <th>menu</th>\n",
       "      <th>use_count</th>\n",
       "    </tr>\n",
       "    <tr>\n",
       "      <th>date</th>\n",
       "      <th></th>\n",
       "      <th></th>\n",
       "    </tr>\n",
       "  </thead>\n",
       "  <tbody>\n",
       "    <tr>\n",
       "      <th>2013-08-06</th>\n",
       "      <td>훈제연어벤또(200개)</td>\n",
       "      <td>213</td>\n",
       "    </tr>\n",
       "    <tr>\n",
       "      <th>2013-08-06</th>\n",
       "      <td>뚝배기 우거지 갈비탕</td>\n",
       "      <td>261</td>\n",
       "    </tr>\n",
       "    <tr>\n",
       "      <th>2013-08-06</th>\n",
       "      <td>판모밀정식</td>\n",
       "      <td>267</td>\n",
       "    </tr>\n",
       "  </tbody>\n",
       "</table>\n",
       "</div>"
      ],
      "text/plain": [
       "                    menu  use_count\n",
       "date                               \n",
       "2013-08-06  훈제연어벤또(200개)        213\n",
       "2013-08-06   뚝배기 우거지 갈비탕        261\n",
       "2013-08-06         판모밀정식        267"
      ]
     },
     "execution_count": 6,
     "metadata": {},
     "output_type": "execute_result"
    }
   ],
   "source": [
    "식당[['menu', 'use_count']][:3]"
   ]
  },
  {
   "cell_type": "code",
   "execution_count": 7,
   "metadata": {
    "collapsed": false
   },
   "outputs": [
    {
     "data": {
      "text/html": [
       "<div>\n",
       "<table border=\"1\" class=\"dataframe\">\n",
       "  <thead>\n",
       "    <tr style=\"text-align: right;\">\n",
       "      <th></th>\n",
       "      <th>dine_type</th>\n",
       "      <th>corner</th>\n",
       "      <th>menu</th>\n",
       "      <th>use_count</th>\n",
       "    </tr>\n",
       "    <tr>\n",
       "      <th>date</th>\n",
       "      <th></th>\n",
       "      <th></th>\n",
       "      <th></th>\n",
       "      <th></th>\n",
       "    </tr>\n",
       "  </thead>\n",
       "  <tbody>\n",
       "    <tr>\n",
       "      <th>2013-08-06</th>\n",
       "      <td>dinner</td>\n",
       "      <td>grill &amp; fry</td>\n",
       "      <td>훈제연어벤또(200개)</td>\n",
       "      <td>213</td>\n",
       "    </tr>\n",
       "    <tr>\n",
       "      <th>2013-08-06</th>\n",
       "      <td>dinner</td>\n",
       "      <td>rice &amp; soup 1</td>\n",
       "      <td>뚝배기 우거지 갈비탕</td>\n",
       "      <td>261</td>\n",
       "    </tr>\n",
       "    <tr>\n",
       "      <th>2013-08-06</th>\n",
       "      <td>lunch</td>\n",
       "      <td>noodle bar</td>\n",
       "      <td>판모밀정식</td>\n",
       "      <td>267</td>\n",
       "    </tr>\n",
       "    <tr>\n",
       "      <th>2013-08-06</th>\n",
       "      <td>breakfast</td>\n",
       "      <td>rice &amp; soup 1</td>\n",
       "      <td>설렁탕정식</td>\n",
       "      <td>1</td>\n",
       "    </tr>\n",
       "    <tr>\n",
       "      <th>2013-08-06</th>\n",
       "      <td>lunch</td>\n",
       "      <td>rice &amp; soup 1</td>\n",
       "      <td>A. 부대찌개정식</td>\n",
       "      <td>376</td>\n",
       "    </tr>\n",
       "  </tbody>\n",
       "</table>\n",
       "</div>"
      ],
      "text/plain": [
       "            dine_type         corner          menu  use_count\n",
       "date                                                         \n",
       "2013-08-06     dinner    grill & fry  훈제연어벤또(200개)        213\n",
       "2013-08-06     dinner  rice & soup 1   뚝배기 우거지 갈비탕        261\n",
       "2013-08-06      lunch     noodle bar         판모밀정식        267\n",
       "2013-08-06  breakfast  rice & soup 1         설렁탕정식          1\n",
       "2013-08-06      lunch  rice & soup 1     A. 부대찌개정식        376"
      ]
     },
     "execution_count": 7,
     "metadata": {},
     "output_type": "execute_result"
    }
   ],
   "source": [
    "식당[[\"dine_type\", \"corner\", \"menu\", \"use_count\"]][:5]"
   ]
  },
  {
   "cell_type": "code",
   "execution_count": 8,
   "metadata": {
    "collapsed": false
   },
   "outputs": [
    {
     "data": {
      "text/html": [
       "<div>\n",
       "<table border=\"1\" class=\"dataframe\">\n",
       "  <thead>\n",
       "    <tr style=\"text-align: right;\">\n",
       "      <th></th>\n",
       "      <th>시간대</th>\n",
       "      <th>코너</th>\n",
       "      <th>메뉴</th>\n",
       "      <th>is_sold_out</th>\n",
       "      <th>주문수량</th>\n",
       "      <th>pred_count</th>\n",
       "      <th>additional</th>\n",
       "      <th>good</th>\n",
       "      <th>ok</th>\n",
       "      <th>bad</th>\n",
       "      <th>diff_use_pred</th>\n",
       "      <th>year</th>\n",
       "      <th>month</th>\n",
       "      <th>day</th>\n",
       "      <th>wday</th>\n",
       "    </tr>\n",
       "    <tr>\n",
       "      <th>date</th>\n",
       "      <th></th>\n",
       "      <th></th>\n",
       "      <th></th>\n",
       "      <th></th>\n",
       "      <th></th>\n",
       "      <th></th>\n",
       "      <th></th>\n",
       "      <th></th>\n",
       "      <th></th>\n",
       "      <th></th>\n",
       "      <th></th>\n",
       "      <th></th>\n",
       "      <th></th>\n",
       "      <th></th>\n",
       "      <th></th>\n",
       "    </tr>\n",
       "  </thead>\n",
       "  <tbody>\n",
       "    <tr>\n",
       "      <th>2013-08-06</th>\n",
       "      <td>dinner</td>\n",
       "      <td>grill &amp; fry</td>\n",
       "      <td>훈제연어벤또(200개)</td>\n",
       "      <td>F</td>\n",
       "      <td>213</td>\n",
       "      <td>0</td>\n",
       "      <td>0</td>\n",
       "      <td>0</td>\n",
       "      <td>0</td>\n",
       "      <td>0</td>\n",
       "      <td>-213</td>\n",
       "      <td>2013</td>\n",
       "      <td>8</td>\n",
       "      <td>6</td>\n",
       "      <td>1</td>\n",
       "    </tr>\n",
       "    <tr>\n",
       "      <th>2013-08-06</th>\n",
       "      <td>dinner</td>\n",
       "      <td>rice &amp; soup 1</td>\n",
       "      <td>뚝배기 우거지 갈비탕</td>\n",
       "      <td>F</td>\n",
       "      <td>261</td>\n",
       "      <td>0</td>\n",
       "      <td>0</td>\n",
       "      <td>0</td>\n",
       "      <td>0</td>\n",
       "      <td>0</td>\n",
       "      <td>-261</td>\n",
       "      <td>2013</td>\n",
       "      <td>8</td>\n",
       "      <td>6</td>\n",
       "      <td>1</td>\n",
       "    </tr>\n",
       "    <tr>\n",
       "      <th>2013-08-06</th>\n",
       "      <td>lunch</td>\n",
       "      <td>noodle bar</td>\n",
       "      <td>판모밀정식</td>\n",
       "      <td>F</td>\n",
       "      <td>267</td>\n",
       "      <td>0</td>\n",
       "      <td>0</td>\n",
       "      <td>0</td>\n",
       "      <td>0</td>\n",
       "      <td>0</td>\n",
       "      <td>-267</td>\n",
       "      <td>2013</td>\n",
       "      <td>8</td>\n",
       "      <td>6</td>\n",
       "      <td>1</td>\n",
       "    </tr>\n",
       "    <tr>\n",
       "      <th>2013-08-06</th>\n",
       "      <td>breakfast</td>\n",
       "      <td>rice &amp; soup 1</td>\n",
       "      <td>설렁탕정식</td>\n",
       "      <td>F</td>\n",
       "      <td>1</td>\n",
       "      <td>0</td>\n",
       "      <td>0</td>\n",
       "      <td>0</td>\n",
       "      <td>0</td>\n",
       "      <td>0</td>\n",
       "      <td>-1</td>\n",
       "      <td>2013</td>\n",
       "      <td>8</td>\n",
       "      <td>6</td>\n",
       "      <td>1</td>\n",
       "    </tr>\n",
       "    <tr>\n",
       "      <th>2013-08-06</th>\n",
       "      <td>lunch</td>\n",
       "      <td>rice &amp; soup 1</td>\n",
       "      <td>A. 부대찌개정식</td>\n",
       "      <td>F</td>\n",
       "      <td>376</td>\n",
       "      <td>0</td>\n",
       "      <td>0</td>\n",
       "      <td>0</td>\n",
       "      <td>0</td>\n",
       "      <td>0</td>\n",
       "      <td>-376</td>\n",
       "      <td>2013</td>\n",
       "      <td>8</td>\n",
       "      <td>6</td>\n",
       "      <td>1</td>\n",
       "    </tr>\n",
       "    <tr>\n",
       "      <th>2013-08-12</th>\n",
       "      <td>dinner</td>\n",
       "      <td>noodle bar</td>\n",
       "      <td>차슈라멘</td>\n",
       "      <td>F</td>\n",
       "      <td>179</td>\n",
       "      <td>0</td>\n",
       "      <td>0</td>\n",
       "      <td>0</td>\n",
       "      <td>0</td>\n",
       "      <td>0</td>\n",
       "      <td>-179</td>\n",
       "      <td>2013</td>\n",
       "      <td>8</td>\n",
       "      <td>12</td>\n",
       "      <td>0</td>\n",
       "    </tr>\n",
       "    <tr>\n",
       "      <th>2013-08-12</th>\n",
       "      <td>breakfast</td>\n",
       "      <td>rice &amp; soup 1</td>\n",
       "      <td>뚝배기순대국</td>\n",
       "      <td>F</td>\n",
       "      <td>26</td>\n",
       "      <td>0</td>\n",
       "      <td>0</td>\n",
       "      <td>0</td>\n",
       "      <td>0</td>\n",
       "      <td>0</td>\n",
       "      <td>-26</td>\n",
       "      <td>2013</td>\n",
       "      <td>8</td>\n",
       "      <td>12</td>\n",
       "      <td>0</td>\n",
       "    </tr>\n",
       "  </tbody>\n",
       "</table>\n",
       "</div>"
      ],
      "text/plain": [
       "                  시간대             코너            메뉴 is_sold_out  주문수량  \\\n",
       "date                                                                   \n",
       "2013-08-06     dinner    grill & fry  훈제연어벤또(200개)           F   213   \n",
       "2013-08-06     dinner  rice & soup 1   뚝배기 우거지 갈비탕           F   261   \n",
       "2013-08-06      lunch     noodle bar         판모밀정식           F   267   \n",
       "2013-08-06  breakfast  rice & soup 1         설렁탕정식           F     1   \n",
       "2013-08-06      lunch  rice & soup 1     A. 부대찌개정식           F   376   \n",
       "2013-08-12     dinner     noodle bar          차슈라멘           F   179   \n",
       "2013-08-12  breakfast  rice & soup 1        뚝배기순대국           F    26   \n",
       "\n",
       "            pred_count  additional  good  ok  bad  diff_use_pred  year  month  \\\n",
       "date                                                                            \n",
       "2013-08-06           0           0     0   0    0           -213  2013      8   \n",
       "2013-08-06           0           0     0   0    0           -261  2013      8   \n",
       "2013-08-06           0           0     0   0    0           -267  2013      8   \n",
       "2013-08-06           0           0     0   0    0             -1  2013      8   \n",
       "2013-08-06           0           0     0   0    0           -376  2013      8   \n",
       "2013-08-12           0           0     0   0    0           -179  2013      8   \n",
       "2013-08-12           0           0     0   0    0            -26  2013      8   \n",
       "\n",
       "            day  wday  \n",
       "date                   \n",
       "2013-08-06    6     1  \n",
       "2013-08-06    6     1  \n",
       "2013-08-06    6     1  \n",
       "2013-08-06    6     1  \n",
       "2013-08-06    6     1  \n",
       "2013-08-12   12     0  \n",
       "2013-08-12   12     0  "
      ]
     },
     "execution_count": 8,
     "metadata": {},
     "output_type": "execute_result"
    }
   ],
   "source": [
    "# 열 이름 변경\n",
    "열제목매핑 = {\"corner\":\"코너\", \"menu\": \"메뉴\", \"use_count\":\"주문수량\", \"dine_type\":\"시간대\"}\n",
    "식당 = 식당.rename(columns=열제목매핑)\n",
    "식당[:7]"
   ]
  },
  {
   "cell_type": "code",
   "execution_count": 9,
   "metadata": {
    "collapsed": false
   },
   "outputs": [
    {
     "data": {
      "text/plain": [
       "밥국1     1422\n",
       "포장      1381\n",
       "야근       929\n",
       "구이       925\n",
       "면식       923\n",
       "버거피자     913\n",
       "밥국2      332\n",
       "Name: 코너, dtype: int64"
      ]
     },
     "execution_count": 9,
     "metadata": {},
     "output_type": "execute_result"
    }
   ],
   "source": [
    "# 값 변경\n",
    "코너값매핑 = {\"rice & soup 1\":\"밥국1\", \"rice & soup 2\":\"밥국2\",\"noodle bar\" : \"면식\", \"grill & fry\":\"구이\",\"burger&pizza\":\"버거피자\", \"after school\": \"야근\", \"take out\": \"포장\"}\n",
    "식당[\"코너\"] = 식당[\"코너\"].replace(코너값매핑)\n",
    "식당[\"코너\"].value_counts() # 그 결과에 대해 도수 집계"
   ]
  },
  {
   "cell_type": "code",
   "execution_count": 10,
   "metadata": {
    "collapsed": false
   },
   "outputs": [
    {
     "data": {
      "text/plain": [
       "코너\n",
       "구이      225.996757\n",
       "면식      179.244854\n",
       "밥국1     221.974684\n",
       "밥국2     241.897590\n",
       "버거피자    144.285871\n",
       "야근      140.921421\n",
       "포장      190.789283\n",
       "Name: 주문수량, dtype: float64"
      ]
     },
     "execution_count": 10,
     "metadata": {},
     "output_type": "execute_result"
    }
   ],
   "source": [
    "# 코너 별로 분류해 주문수량의 평균 구하기\n",
    "코너별분류 = 식당.groupby('코너')\n",
    "코너별분류[\"주문수량\"].mean()"
   ]
  },
  {
   "cell_type": "code",
   "execution_count": 11,
   "metadata": {
    "collapsed": false
   },
   "outputs": [
    {
     "data": {
      "text/html": [
       "<div>\n",
       "<table border=\"1\" class=\"dataframe\">\n",
       "  <thead>\n",
       "    <tr style=\"text-align: right;\">\n",
       "      <th>시간대</th>\n",
       "      <th>breakfast</th>\n",
       "      <th>dinner</th>\n",
       "      <th>lunch</th>\n",
       "    </tr>\n",
       "    <tr>\n",
       "      <th>코너</th>\n",
       "      <th></th>\n",
       "      <th></th>\n",
       "      <th></th>\n",
       "    </tr>\n",
       "  </thead>\n",
       "  <tbody>\n",
       "    <tr>\n",
       "      <th>구이</th>\n",
       "      <td>NaN</td>\n",
       "      <td>186.026144</td>\n",
       "      <td>265.366953</td>\n",
       "    </tr>\n",
       "    <tr>\n",
       "      <th>면식</th>\n",
       "      <td>NaN</td>\n",
       "      <td>122.383772</td>\n",
       "      <td>234.766595</td>\n",
       "    </tr>\n",
       "    <tr>\n",
       "      <th>밥국1</th>\n",
       "      <td>52.449580</td>\n",
       "      <td>217.696203</td>\n",
       "      <td>397.233051</td>\n",
       "    </tr>\n",
       "    <tr>\n",
       "      <th>밥국2</th>\n",
       "      <td>NaN</td>\n",
       "      <td>NaN</td>\n",
       "      <td>241.897590</td>\n",
       "    </tr>\n",
       "    <tr>\n",
       "      <th>버거피자</th>\n",
       "      <td>NaN</td>\n",
       "      <td>117.764967</td>\n",
       "      <td>170.175325</td>\n",
       "    </tr>\n",
       "    <tr>\n",
       "      <th>야근</th>\n",
       "      <td>NaN</td>\n",
       "      <td>127.143469</td>\n",
       "      <td>154.848485</td>\n",
       "    </tr>\n",
       "    <tr>\n",
       "      <th>포장</th>\n",
       "      <td>46.452381</td>\n",
       "      <td>256.149675</td>\n",
       "      <td>270.598253</td>\n",
       "    </tr>\n",
       "  </tbody>\n",
       "</table>\n",
       "</div>"
      ],
      "text/plain": [
       "시간대   breakfast      dinner       lunch\n",
       "코너                                     \n",
       "구이          NaN  186.026144  265.366953\n",
       "면식          NaN  122.383772  234.766595\n",
       "밥국1   52.449580  217.696203  397.233051\n",
       "밥국2         NaN         NaN  241.897590\n",
       "버거피자        NaN  117.764967  170.175325\n",
       "야근          NaN  127.143469  154.848485\n",
       "포장    46.452381  256.149675  270.598253"
      ]
     },
     "execution_count": 11,
     "metadata": {},
     "output_type": "execute_result"
    }
   ],
   "source": [
    "코너별시간대별분류 = 식당.groupby([\"코너\", \"시간대\"])[\"주문수량\"]\n",
    "코너별시간대별분류.mean().unstack()"
   ]
  },
  {
   "cell_type": "code",
   "execution_count": 12,
   "metadata": {
    "collapsed": false
   },
   "outputs": [
    {
     "data": {
      "text/plain": [
       "점심    3119\n",
       "저녁    2768\n",
       "아침     938\n",
       "Name: 시간대, dtype: int64"
      ]
     },
     "execution_count": 12,
     "metadata": {},
     "output_type": "execute_result"
    }
   ],
   "source": [
    "# 값 변경\n",
    "시간대코너값매핑 = {\"breakfast\":\"아침\", \"dinner\":\"저녁\",\"lunch\" : \"점심\"}\n",
    "식당[\"시간대\"] = 식당[\"시간대\"].replace(시간대코너값매핑)\n",
    "식당[\"시간대\"].value_counts() # 그 결과에 대해 도수 집계\n"
   ]
  },
  {
   "cell_type": "code",
   "execution_count": 13,
   "metadata": {
    "collapsed": false
   },
   "outputs": [
    {
     "data": {
      "text/html": [
       "<div>\n",
       "<table border=\"1\" class=\"dataframe\">\n",
       "  <thead>\n",
       "    <tr style=\"text-align: right;\">\n",
       "      <th>시간대</th>\n",
       "      <th>아침</th>\n",
       "      <th>점심</th>\n",
       "      <th>저녁</th>\n",
       "    </tr>\n",
       "    <tr>\n",
       "      <th>코너</th>\n",
       "      <th></th>\n",
       "      <th></th>\n",
       "      <th></th>\n",
       "    </tr>\n",
       "  </thead>\n",
       "  <tbody>\n",
       "    <tr>\n",
       "      <th>구이</th>\n",
       "      <td>NaN</td>\n",
       "      <td>265.366953</td>\n",
       "      <td>186.026144</td>\n",
       "    </tr>\n",
       "    <tr>\n",
       "      <th>면식</th>\n",
       "      <td>NaN</td>\n",
       "      <td>234.766595</td>\n",
       "      <td>122.383772</td>\n",
       "    </tr>\n",
       "    <tr>\n",
       "      <th>밥국1</th>\n",
       "      <td>52.449580</td>\n",
       "      <td>397.233051</td>\n",
       "      <td>217.696203</td>\n",
       "    </tr>\n",
       "    <tr>\n",
       "      <th>밥국2</th>\n",
       "      <td>NaN</td>\n",
       "      <td>241.897590</td>\n",
       "      <td>NaN</td>\n",
       "    </tr>\n",
       "    <tr>\n",
       "      <th>버거피자</th>\n",
       "      <td>NaN</td>\n",
       "      <td>170.175325</td>\n",
       "      <td>117.764967</td>\n",
       "    </tr>\n",
       "    <tr>\n",
       "      <th>야근</th>\n",
       "      <td>NaN</td>\n",
       "      <td>154.848485</td>\n",
       "      <td>127.143469</td>\n",
       "    </tr>\n",
       "    <tr>\n",
       "      <th>포장</th>\n",
       "      <td>46.452381</td>\n",
       "      <td>270.598253</td>\n",
       "      <td>256.149675</td>\n",
       "    </tr>\n",
       "  </tbody>\n",
       "</table>\n",
       "</div>"
      ],
      "text/plain": [
       "시간대          아침          점심          저녁\n",
       "코너                                     \n",
       "구이          NaN  265.366953  186.026144\n",
       "면식          NaN  234.766595  122.383772\n",
       "밥국1   52.449580  397.233051  217.696203\n",
       "밥국2         NaN  241.897590         NaN\n",
       "버거피자        NaN  170.175325  117.764967\n",
       "야근          NaN  154.848485  127.143469\n",
       "포장    46.452381  270.598253  256.149675"
      ]
     },
     "execution_count": 13,
     "metadata": {},
     "output_type": "execute_result"
    }
   ],
   "source": [
    "# 피벗 테이블 - 색인을 코너로 열을 시간대로 표를 만들어 주문수량의 평균 값으로 테이블을 채움\n",
    "주문평균 = 식당.pivot_table('주문수량', index='코너', columns='시간대')\n",
    "주문평균 = 주문평균[[\"아침\",\"점심\",\"저녁\"]]\n",
    "주문평균"
   ]
  },
  {
   "cell_type": "code",
   "execution_count": 14,
   "metadata": {
    "collapsed": false
   },
   "outputs": [
    {
     "data": {
      "text/plain": [
       "코너\n",
       "구이      451.393097\n",
       "면식      357.150367\n",
       "밥국1     667.378833\n",
       "밥국2     241.897590\n",
       "버거피자    287.940291\n",
       "야근      281.991954\n",
       "포장      573.200309\n",
       "dtype: float64"
      ]
     },
     "execution_count": 14,
     "metadata": {},
     "output_type": "execute_result"
    }
   ],
   "source": [
    "# 파라미터를 입력하지 않으면 열 별로 평균이나 합계가 구해짐\n",
    "주문평균.sum()\n",
    "# axis=1이면 색인 별로 값을 구할 수 있음\n",
    "주문평균.sum(axis=1)"
   ]
  },
  {
   "cell_type": "code",
   "execution_count": 15,
   "metadata": {
    "collapsed": false
   },
   "outputs": [
    {
     "data": {
      "text/html": [
       "<div>\n",
       "<table border=\"1\" class=\"dataframe\">\n",
       "  <thead>\n",
       "    <tr style=\"text-align: right;\">\n",
       "      <th>시간대</th>\n",
       "      <th>아침</th>\n",
       "      <th>점심</th>\n",
       "      <th>저녁</th>\n",
       "    </tr>\n",
       "    <tr>\n",
       "      <th>코너</th>\n",
       "      <th></th>\n",
       "      <th></th>\n",
       "      <th></th>\n",
       "    </tr>\n",
       "  </thead>\n",
       "  <tbody>\n",
       "    <tr>\n",
       "      <th>밥국1</th>\n",
       "      <td>52.449580</td>\n",
       "      <td>397.233051</td>\n",
       "      <td>217.696203</td>\n",
       "    </tr>\n",
       "    <tr>\n",
       "      <th>포장</th>\n",
       "      <td>46.452381</td>\n",
       "      <td>270.598253</td>\n",
       "      <td>256.149675</td>\n",
       "    </tr>\n",
       "    <tr>\n",
       "      <th>구이</th>\n",
       "      <td>NaN</td>\n",
       "      <td>265.366953</td>\n",
       "      <td>186.026144</td>\n",
       "    </tr>\n",
       "    <tr>\n",
       "      <th>밥국2</th>\n",
       "      <td>NaN</td>\n",
       "      <td>241.897590</td>\n",
       "      <td>NaN</td>\n",
       "    </tr>\n",
       "    <tr>\n",
       "      <th>면식</th>\n",
       "      <td>NaN</td>\n",
       "      <td>234.766595</td>\n",
       "      <td>122.383772</td>\n",
       "    </tr>\n",
       "    <tr>\n",
       "      <th>버거피자</th>\n",
       "      <td>NaN</td>\n",
       "      <td>170.175325</td>\n",
       "      <td>117.764967</td>\n",
       "    </tr>\n",
       "    <tr>\n",
       "      <th>야근</th>\n",
       "      <td>NaN</td>\n",
       "      <td>154.848485</td>\n",
       "      <td>127.143469</td>\n",
       "    </tr>\n",
       "  </tbody>\n",
       "</table>\n",
       "</div>"
      ],
      "text/plain": [
       "시간대          아침          점심          저녁\n",
       "코너                                     \n",
       "밥국1   52.449580  397.233051  217.696203\n",
       "포장    46.452381  270.598253  256.149675\n",
       "구이          NaN  265.366953  186.026144\n",
       "밥국2         NaN  241.897590         NaN\n",
       "면식          NaN  234.766595  122.383772\n",
       "버거피자        NaN  170.175325  117.764967\n",
       "야근          NaN  154.848485  127.143469"
      ]
     },
     "execution_count": 15,
     "metadata": {},
     "output_type": "execute_result"
    }
   ],
   "source": [
    "#점심에 주문량이 많은 코너가 뭘까? 점심 열을 기준으로 정렬\n",
    "주문평균.sort_values(by=\"점심\")\n",
    "주문평균 = 주문평균.sort_values(by=\"점심\")[::-1] # 역순\n",
    "주문평균"
   ]
  },
  {
   "cell_type": "code",
   "execution_count": 16,
   "metadata": {
    "collapsed": false
   },
   "outputs": [],
   "source": [
    "# 엑셀 저장\n",
    "식당.to_excel('./data/수정된식당.xlsx')"
   ]
  },
  {
   "cell_type": "code",
   "execution_count": 17,
   "metadata": {
    "collapsed": false
   },
   "outputs": [],
   "source": [
    "# 그래프 출력\n",
    "%matplotlib inline"
   ]
  },
  {
   "cell_type": "code",
   "execution_count": 18,
   "metadata": {
    "collapsed": false
   },
   "outputs": [
    {
     "data": {
      "text/plain": [
       "<matplotlib.axes._subplots.AxesSubplot at 0x7f64490d0b70>"
      ]
     },
     "execution_count": 18,
     "metadata": {},
     "output_type": "execute_result"
    },
    {
     "data": {
      "image/png": "[encoded data removed]",
      "text/plain": [
       "<matplotlib.figure.Figure at 0x7f644bc4cd68>"
      ]
     },
     "metadata": {},
     "output_type": "display_data"
    }
   ],
   "source": [
    "주문평균.plot(kind=\"bar\")"
   ]
  },
  {
   "cell_type": "code",
   "execution_count": 19,
   "metadata": {
    "collapsed": false
   },
   "outputs": [
    {
     "data": {
      "text/plain": [
       "<matplotlib.axes._subplots.AxesSubplot at 0x7f644956fe48>"
      ]
     },
     "execution_count": 19,
     "metadata": {},
     "output_type": "execute_result"
    },
    {
     "data": {
      "image/png": "[encoded data removed]",
      "text/plain": [
       "<matplotlib.figure.Figure at 0x7f64497ac898>"
      ]
     },
     "metadata": {},
     "output_type": "display_data"
    }
   ],
   "source": [
    "주문평균.plot(kind=\"barh\")"
   ]
  },
  {
   "cell_type": "code",
   "execution_count": 20,
   "metadata": {
    "collapsed": true
   },
   "outputs": [],
   "source": [
    "날씨 = pd.read_excel('./data/weather.xlsx')\n",
    "날씨 = 날씨[['location', 'date', 'avgTemp', 'weather']]\n",
    "열제목매핑 = {'location':'지역', \"date\":\"날짜\", \"avgTemp\":\"일평균\", \"weather\":\"기상\"}\n",
    "날씨 = 날씨.rename(columns=열제목매핑)"
   ]
  },
  {
   "cell_type": "code",
   "execution_count": 21,
   "metadata": {
    "collapsed": false
   },
   "outputs": [
    {
     "data": {
      "text/plain": [
       "seoul    730\n",
       "suwon    730\n",
       "Name: 지역, dtype: int64"
      ]
     },
     "execution_count": 21,
     "metadata": {},
     "output_type": "execute_result"
    }
   ],
   "source": [
    "날씨[\"지역\"].value_counts()"
   ]
  },
  {
   "cell_type": "code",
   "execution_count": 22,
   "metadata": {
    "collapsed": false
   },
   "outputs": [
    {
     "data": {
      "text/plain": [
       "서울    730\n",
       "수원    730\n",
       "Name: 지역, dtype: int64"
      ]
     },
     "execution_count": 22,
     "metadata": {},
     "output_type": "execute_result"
    }
   ],
   "source": [
    "지역값매핑 = {\"suwon\":\"수원\", \"seoul\":\"서울\"}\n",
    "날씨[\"지역\"] = 날씨[\"지역\"].replace(지역값매핑)\n",
    "날씨[\"지역\"].value_counts()"
   ]
  },
  {
   "cell_type": "code",
   "execution_count": 23,
   "metadata": {
    "collapsed": false
   },
   "outputs": [
    {
     "data": {
      "text/html": [
       "<div>\n",
       "<table border=\"1\" class=\"dataframe\">\n",
       "  <thead>\n",
       "    <tr style=\"text-align: right;\">\n",
       "      <th></th>\n",
       "      <th>일평균</th>\n",
       "    </tr>\n",
       "    <tr>\n",
       "      <th>지역</th>\n",
       "      <th></th>\n",
       "    </tr>\n",
       "  </thead>\n",
       "  <tbody>\n",
       "    <tr>\n",
       "      <th>서울</th>\n",
       "      <td>13.365616</td>\n",
       "    </tr>\n",
       "    <tr>\n",
       "      <th>수원</th>\n",
       "      <td>13.167123</td>\n",
       "    </tr>\n",
       "  </tbody>\n",
       "</table>\n",
       "</div>"
      ],
      "text/plain": [
       "          일평균\n",
       "지역           \n",
       "서울  13.365616\n",
       "수원  13.167123"
      ]
     },
     "execution_count": 23,
     "metadata": {},
     "output_type": "execute_result"
    }
   ],
   "source": [
    "날씨.groupby(\"지역\").mean().sort_values(by=\"일평균\")[::-1]"
   ]
  },
  {
   "cell_type": "code",
   "execution_count": 24,
   "metadata": {
    "collapsed": true
   },
   "outputs": [],
   "source": [
    "날씨.to_excel(\"./data/날씨.xlsx\")"
   ]
  }
 ],
 "metadata": {
  "kernelspec": {
   "display_name": "Python 3",
   "language": "python",
   "name": "python3"
  },
  "language_info": {
   "codemirror_mode": {
    "name": "ipython",
    "version": 3
   },
   "file_extension": ".py",
   "mimetype": "text/x-python",
   "name": "python",
   "nbconvert_exporter": "python",
   "pygments_lexer": "ipython3",
   "version": "3.5.2"
  }
 },
 "nbformat": 4,
 "nbformat_minor": 1
}
