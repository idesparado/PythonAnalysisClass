{
 "cells": [
  {
   "cell_type": "code",
   "execution_count": 1,
   "metadata": {
    "collapsed": true
   },
   "outputs": [],
   "source": [
    "import exim"
   ]
  },
  {
   "cell_type": "code",
   "execution_count": 2,
   "metadata": {
    "collapsed": true
   },
   "outputs": [],
   "source": [
    "경로 = './data/koreaexim/international/Global+Market+Daily+Table%28값복사%29_0803.xls'\n",
    "표목록 = exim.수출입은행국제(경로)"
   ]
  },
  {
   "cell_type": "code",
   "execution_count": 3,
   "metadata": {
    "collapsed": false
   },
   "outputs": [
    {
     "data": {
      "text/html": [
       "<div>\n",
       "<table border=\"1\" class=\"dataframe\">\n",
       "  <thead>\n",
       "    <tr style=\"text-align: right;\">\n",
       "      <th></th>\n",
       "      <th>Last Price</th>\n",
       "      <th>D-1</th>\n",
       "      <th>D-7</th>\n",
       "      <th>MTD</th>\n",
       "      <th>QTD</th>\n",
       "      <th>YTD</th>\n",
       "      <th>Yr High</th>\n",
       "      <th>Yr Low</th>\n",
       "    </tr>\n",
       "    <tr>\n",
       "      <th>CDS</th>\n",
       "      <th></th>\n",
       "      <th></th>\n",
       "      <th></th>\n",
       "      <th></th>\n",
       "      <th></th>\n",
       "      <th></th>\n",
       "      <th></th>\n",
       "      <th></th>\n",
       "    </tr>\n",
       "  </thead>\n",
       "  <tbody>\n",
       "    <tr>\n",
       "      <th>China</th>\n",
       "      <td>101</td>\n",
       "      <td>0.831</td>\n",
       "      <td>-0.501</td>\n",
       "      <td>0.831</td>\n",
       "      <td>8.333</td>\n",
       "      <td>14.013</td>\n",
       "      <td>104.336</td>\n",
       "      <td>66.838</td>\n",
       "    </tr>\n",
       "    <tr>\n",
       "      <th>Indonesia</th>\n",
       "      <td>186.757</td>\n",
       "      <td>3.249</td>\n",
       "      <td>5.545</td>\n",
       "      <td>3.249</td>\n",
       "      <td>30.208</td>\n",
       "      <td>26.445</td>\n",
       "      <td>183.748</td>\n",
       "      <td>127.162</td>\n",
       "    </tr>\n",
       "    <tr>\n",
       "      <th>Malaysia</th>\n",
       "      <td>152.159</td>\n",
       "      <td>4.173</td>\n",
       "      <td>10.277</td>\n",
       "      <td>4.173</td>\n",
       "      <td>24.706</td>\n",
       "      <td>45.332</td>\n",
       "      <td>151.325</td>\n",
       "      <td>73.677</td>\n",
       "    </tr>\n",
       "    <tr>\n",
       "      <th>Thailand</th>\n",
       "      <td>109</td>\n",
       "      <td>2</td>\n",
       "      <td>1</td>\n",
       "      <td>2</td>\n",
       "      <td>5.5</td>\n",
       "      <td>6</td>\n",
       "      <td>119.511</td>\n",
       "      <td>80.84</td>\n",
       "    </tr>\n",
       "    <tr>\n",
       "      <th>Russia</th>\n",
       "      <td>345.773</td>\n",
       "      <td>6.039</td>\n",
       "      <td>3.628</td>\n",
       "      <td>6.039</td>\n",
       "      <td>-27.167</td>\n",
       "      <td>-126.441</td>\n",
       "      <td>628.765</td>\n",
       "      <td>221.835</td>\n",
       "    </tr>\n",
       "    <tr>\n",
       "      <th>South Africa</th>\n",
       "      <td>219.178</td>\n",
       "      <td>-0.717</td>\n",
       "      <td>-0.887</td>\n",
       "      <td>-0.717</td>\n",
       "      <td>11.862</td>\n",
       "      <td>29.295</td>\n",
       "      <td>240.794</td>\n",
       "      <td>159</td>\n",
       "    </tr>\n",
       "    <tr>\n",
       "      <th>Turkey</th>\n",
       "      <td>236.839</td>\n",
       "      <td>-1.569</td>\n",
       "      <td>6.529</td>\n",
       "      <td>-1.569</td>\n",
       "      <td>20.735</td>\n",
       "      <td>60.005</td>\n",
       "      <td>238.408</td>\n",
       "      <td>156</td>\n",
       "    </tr>\n",
       "    <tr>\n",
       "      <th>Brazil</th>\n",
       "      <td>292.362</td>\n",
       "      <td>4.642</td>\n",
       "      <td>-4.678</td>\n",
       "      <td>4.642</td>\n",
       "      <td>27.912</td>\n",
       "      <td>95.564</td>\n",
       "      <td>306.576</td>\n",
       "      <td>123.25</td>\n",
       "    </tr>\n",
       "    <tr>\n",
       "      <th>Korea</th>\n",
       "      <td>54.165</td>\n",
       "      <td>0.331</td>\n",
       "      <td>-0.751</td>\n",
       "      <td>0.331</td>\n",
       "      <td>2.08</td>\n",
       "      <td>-0.326</td>\n",
       "      <td>67.609</td>\n",
       "      <td>45.491</td>\n",
       "    </tr>\n",
       "    <tr>\n",
       "      <th>NaN</th>\n",
       "      <td>Last Price</td>\n",
       "      <td>D-1</td>\n",
       "      <td>D-7</td>\n",
       "      <td>MTD</td>\n",
       "      <td>QTD</td>\n",
       "      <td>YTD</td>\n",
       "      <td>Yr High</td>\n",
       "      <td>Yr Low</td>\n",
       "    </tr>\n",
       "    <tr>\n",
       "      <th>Japan</th>\n",
       "      <td>40</td>\n",
       "      <td>0</td>\n",
       "      <td>-0.713</td>\n",
       "      <td>0</td>\n",
       "      <td>4.511</td>\n",
       "      <td>-27.5</td>\n",
       "      <td>73.833</td>\n",
       "      <td>31.335</td>\n",
       "    </tr>\n",
       "    <tr>\n",
       "      <th>Italy</th>\n",
       "      <td>114.915</td>\n",
       "      <td>-0.611</td>\n",
       "      <td>-0.215</td>\n",
       "      <td>-0.611</td>\n",
       "      <td>6.397</td>\n",
       "      <td>-24.382</td>\n",
       "      <td>160.16</td>\n",
       "      <td>84.16</td>\n",
       "    </tr>\n",
       "    <tr>\n",
       "      <th>Spain</th>\n",
       "      <td>94.888</td>\n",
       "      <td>-0.057</td>\n",
       "      <td>2.668</td>\n",
       "      <td>-0.057</td>\n",
       "      <td>9.649</td>\n",
       "      <td>-2.852</td>\n",
       "      <td>130.438</td>\n",
       "      <td>56.493</td>\n",
       "    </tr>\n",
       "  </tbody>\n",
       "</table>\n",
       "</div>"
      ],
      "text/plain": [
       "              Last Price    D-1     D-7    MTD     QTD      YTD  Yr High  \\\n",
       "CDS                                                                        \n",
       "China                101  0.831  -0.501  0.831   8.333   14.013  104.336   \n",
       "Indonesia        186.757  3.249   5.545  3.249  30.208   26.445  183.748   \n",
       "Malaysia         152.159  4.173  10.277  4.173  24.706   45.332  151.325   \n",
       "Thailand             109      2       1      2     5.5        6  119.511   \n",
       "Russia           345.773  6.039   3.628  6.039 -27.167 -126.441  628.765   \n",
       "South Africa     219.178 -0.717  -0.887 -0.717  11.862   29.295  240.794   \n",
       "Turkey           236.839 -1.569   6.529 -1.569  20.735   60.005  238.408   \n",
       "Brazil           292.362  4.642  -4.678  4.642  27.912   95.564  306.576   \n",
       "Korea             54.165  0.331  -0.751  0.331    2.08   -0.326   67.609   \n",
       "NaN           Last Price    D-1     D-7    MTD     QTD      YTD  Yr High   \n",
       "Japan                 40      0  -0.713      0   4.511    -27.5   73.833   \n",
       "Italy            114.915 -0.611  -0.215 -0.611   6.397  -24.382   160.16   \n",
       "Spain             94.888 -0.057   2.668 -0.057   9.649   -2.852  130.438   \n",
       "\n",
       "               Yr Low  \n",
       "CDS                    \n",
       "China          66.838  \n",
       "Indonesia     127.162  \n",
       "Malaysia       73.677  \n",
       "Thailand        80.84  \n",
       "Russia        221.835  \n",
       "South Africa      159  \n",
       "Turkey            156  \n",
       "Brazil         123.25  \n",
       "Korea          45.491  \n",
       "NaN            Yr Low  \n",
       "Japan          31.335  \n",
       "Italy           84.16  \n",
       "Spain          56.493  "
      ]
     },
     "execution_count": 3,
     "metadata": {},
     "output_type": "execute_result"
    }
   ],
   "source": [
    "표목록[-1]"
   ]
  },
  {
   "cell_type": "code",
   "execution_count": 4,
   "metadata": {
    "collapsed": true
   },
   "outputs": [],
   "source": [
    "폴더경로 = './data/koreaexim/international/'\n"
   ]
  },
  {
   "cell_type": "code",
   "execution_count": 5,
   "metadata": {
    "collapsed": true
   },
   "outputs": [],
   "source": [
    "import os"
   ]
  },
  {
   "cell_type": "code",
   "execution_count": 6,
   "metadata": {
    "collapsed": true
   },
   "outputs": [],
   "source": [
    "파일목록 = os.listdir(폴더경로)"
   ]
  },
  {
   "cell_type": "code",
   "execution_count": 7,
   "metadata": {
    "collapsed": false
   },
   "outputs": [
    {
     "data": {
      "text/plain": [
       "['Global+Market+Daily+Table%28값복사%29_0805.xls',\n",
       " 'Global+Market+Daily+Table%28값복사%29_0803.xls',\n",
       " 'Global+Market+Daily+Table%28값복사%29_0804.xls',\n",
       " 'Global+Market+Daily+Table%28값복사%29_0806.xls']"
      ]
     },
     "execution_count": 7,
     "metadata": {},
     "output_type": "execute_result"
    }
   ],
   "source": [
    "파일목록"
   ]
  },
  {
   "cell_type": "markdown",
   "metadata": {},
   "source": [
    "엑셀파일만 골라내기"
   ]
  },
  {
   "cell_type": "code",
   "execution_count": 8,
   "metadata": {
    "collapsed": false
   },
   "outputs": [
    {
     "data": {
      "text/plain": [
       "['Global+Market+Daily+Table%28값복사%29_0805.xls',\n",
       " 'Global+Market+Daily+Table%28값복사%29_0803.xls',\n",
       " 'Global+Market+Daily+Table%28값복사%29_0804.xls',\n",
       " 'Global+Market+Daily+Table%28값복사%29_0806.xls']"
      ]
     },
     "execution_count": 8,
     "metadata": {},
     "output_type": "execute_result"
    }
   ],
   "source": [
    "def 엑셀파일목록구하기(목록):\n",
    "    결과목록 = []\n",
    "    for 파일이름 in 목록:\n",
    "        if os.path.isfile(폴더경로 + 파일이름) and 파일이름.endswith('.xls'):\n",
    "            결과목록.append(파일이름)\n",
    "    return 결과목록\n",
    "\n",
    "엑셀파일목록구하기(파일목록)"
   ]
  },
  {
   "cell_type": "code",
   "execution_count": 9,
   "metadata": {
    "collapsed": false
   },
   "outputs": [
    {
     "data": {
      "text/plain": [
       "['__builtins__',\n",
       " '__cached__',\n",
       " '__doc__',\n",
       " '__file__',\n",
       " '__loader__',\n",
       " '__name__',\n",
       " '__package__',\n",
       " '__spec__',\n",
       " 'pd',\n",
       " '수출입은행국제',\n",
       " '표범위추출']"
      ]
     },
     "execution_count": 9,
     "metadata": {},
     "output_type": "execute_result"
    }
   ],
   "source": [
    "dir(exim)"
   ]
  },
  {
   "cell_type": "code",
   "execution_count": 10,
   "metadata": {
    "collapsed": false
   },
   "outputs": [
    {
     "data": {
      "text/plain": [
       "['Global+Market+Daily+Table%28값복사%29_0805.xls',\n",
       " 'Global+Market+Daily+Table%28값복사%29_0803.xls',\n",
       " 'Global+Market+Daily+Table%28값복사%29_0804.xls',\n",
       " 'Global+Market+Daily+Table%28값복사%29_0806.xls']"
      ]
     },
     "execution_count": 10,
     "metadata": {},
     "output_type": "execute_result"
    }
   ],
   "source": [
    "엑셀파일목록 = list(filter(lambda x : True if (os.path.isfile(폴더경로 + x) and x.endswith('.xls')) else False , 파일목록))\n",
    "엑셀파일목록"
   ]
  },
  {
   "cell_type": "code",
   "execution_count": 11,
   "metadata": {
    "collapsed": false
   },
   "outputs": [],
   "source": [
    "국제일일공시 = list (map(lambda x : exim.수출입은행국제(os.path.join(폴더경로, x)),엑셀파일목록))"
   ]
  },
  {
   "cell_type": "code",
   "execution_count": 12,
   "metadata": {
    "collapsed": false
   },
   "outputs": [
    {
     "data": {
      "text/html": [
       "<div>\n",
       "<table border=\"1\" class=\"dataframe\">\n",
       "  <thead>\n",
       "    <tr style=\"text-align: right;\">\n",
       "      <th></th>\n",
       "      <th>Last Price</th>\n",
       "      <th>D-1</th>\n",
       "      <th>D-7</th>\n",
       "      <th>MTD</th>\n",
       "      <th>QTD</th>\n",
       "      <th>YTD</th>\n",
       "      <th>Yr High</th>\n",
       "      <th>Yr Low</th>\n",
       "    </tr>\n",
       "    <tr>\n",
       "      <th>Equity</th>\n",
       "      <th></th>\n",
       "      <th></th>\n",
       "      <th></th>\n",
       "      <th></th>\n",
       "      <th></th>\n",
       "      <th></th>\n",
       "      <th></th>\n",
       "      <th></th>\n",
       "    </tr>\n",
       "  </thead>\n",
       "  <tbody>\n",
       "    <tr>\n",
       "      <th>MSCI AC World</th>\n",
       "      <td>425.71</td>\n",
       "      <td>0.00185917</td>\n",
       "      <td>0.000164458</td>\n",
       "      <td>-0.00250715</td>\n",
       "      <td>-0.0130752</td>\n",
       "      <td>0.0205936</td>\n",
       "      <td>442.7</td>\n",
       "      <td>392.13</td>\n",
       "    </tr>\n",
       "    <tr>\n",
       "      <th>S&amp;P 500</th>\n",
       "      <td>2099.84</td>\n",
       "      <td>0.00311467</td>\n",
       "      <td>-0.00414025</td>\n",
       "      <td>-0.00190129</td>\n",
       "      <td>0.00923763</td>\n",
       "      <td>0.0198844</td>\n",
       "      <td>2130.82</td>\n",
       "      <td>1862.49</td>\n",
       "    </tr>\n",
       "    <tr>\n",
       "      <th>Euro Stoxx 50</th>\n",
       "      <td>3676.75</td>\n",
       "      <td>0.0158704</td>\n",
       "      <td>0.0283091</td>\n",
       "      <td>0.0211237</td>\n",
       "      <td>-0.010368</td>\n",
       "      <td>0.168547</td>\n",
       "      <td>3828.78</td>\n",
       "      <td>2874.65</td>\n",
       "    </tr>\n",
       "    <tr>\n",
       "      <th>DAX</th>\n",
       "      <td>11636.3</td>\n",
       "      <td>0.0157323</td>\n",
       "      <td>0.0378573</td>\n",
       "      <td>0.0289425</td>\n",
       "      <td>-0.027666</td>\n",
       "      <td>0.186705</td>\n",
       "      <td>12374.7</td>\n",
       "      <td>8571.95</td>\n",
       "    </tr>\n",
       "    <tr>\n",
       "      <th>Nikkei 225</th>\n",
       "      <td>20614.1</td>\n",
       "      <td>0.0045662</td>\n",
       "      <td>0.0153254</td>\n",
       "      <td>0.00140003</td>\n",
       "      <td>0.0626911</td>\n",
       "      <td>0.181269</td>\n",
       "      <td>20868</td>\n",
       "      <td>14532.5</td>\n",
       "    </tr>\n",
       "    <tr>\n",
       "      <th>상해</th>\n",
       "      <td>3694.57</td>\n",
       "      <td>-0.0164971</td>\n",
       "      <td>-0.0249646</td>\n",
       "      <td>0.00841985</td>\n",
       "      <td>-0.04383</td>\n",
       "      <td>0.142177</td>\n",
       "      <td>5166.35</td>\n",
       "      <td>2187.67</td>\n",
       "    </tr>\n",
       "  </tbody>\n",
       "</table>\n",
       "</div>"
      ],
      "text/plain": [
       "              Last Price         D-1          D-7         MTD         QTD  \\\n",
       "Equity                                                                      \n",
       "MSCI AC World     425.71  0.00185917  0.000164458 -0.00250715  -0.0130752   \n",
       "S&P 500          2099.84  0.00311467  -0.00414025 -0.00190129  0.00923763   \n",
       "Euro Stoxx 50    3676.75   0.0158704    0.0283091   0.0211237   -0.010368   \n",
       "DAX              11636.3   0.0157323    0.0378573   0.0289425   -0.027666   \n",
       "Nikkei 225       20614.1   0.0045662    0.0153254  0.00140003   0.0626911   \n",
       "상해               3694.57  -0.0164971   -0.0249646  0.00841985    -0.04383   \n",
       "\n",
       "                     YTD  Yr High   Yr Low  \n",
       "Equity                                      \n",
       "MSCI AC World  0.0205936    442.7   392.13  \n",
       "S&P 500        0.0198844  2130.82  1862.49  \n",
       "Euro Stoxx 50   0.168547  3828.78  2874.65  \n",
       "DAX             0.186705  12374.7  8571.95  \n",
       "Nikkei 225      0.181269    20868  14532.5  \n",
       "상해              0.142177  5166.35  2187.67  "
      ]
     },
     "execution_count": 12,
     "metadata": {},
     "output_type": "execute_result"
    }
   ],
   "source": [
    "국제일일공시[0][0]"
   ]
  },
  {
   "cell_type": "code",
   "execution_count": null,
   "metadata": {
    "collapsed": true
   },
   "outputs": [],
   "source": []
  }
 ],
 "metadata": {
  "kernelspec": {
   "display_name": "Python 3",
   "language": "python",
   "name": "python3"
  },
  "language_info": {
   "codemirror_mode": {
    "name": "ipython",
    "version": 3
   },
   "file_extension": ".py",
   "mimetype": "text/x-python",
   "name": "python",
   "nbconvert_exporter": "python",
   "pygments_lexer": "ipython3",
   "version": "3.5.2"
  }
 },
 "nbformat": 4,
 "nbformat_minor": 1
}
